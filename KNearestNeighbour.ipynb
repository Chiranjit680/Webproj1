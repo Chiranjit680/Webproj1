{
  "nbformat": 4,
  "nbformat_minor": 0,
  "metadata": {
    "colab": {
      "provenance": [],
      "authorship_tag": "ABX9TyP5ERWq8ipgtacwcp9bq8uz",
      "include_colab_link": true
    },
    "kernelspec": {
      "name": "python3",
      "display_name": "Python 3"
    },
    "language_info": {
      "name": "python"
    }
  },
  "cells": [
    {
      "cell_type": "markdown",
      "metadata": {
        "id": "view-in-github",
        "colab_type": "text"
      },
      "source": [
        "<a href=\"https://colab.research.google.com/github/Chiranjit680/Webproj1/blob/main/KNearestNeighbour.ipynb\" target=\"_parent\"><img src=\"https://colab.research.google.com/assets/colab-badge.svg\" alt=\"Open In Colab\"/></a>"
      ]
    },
    {
      "cell_type": "code",
      "execution_count": 16,
      "metadata": {
        "colab": {
          "base_uri": "https://localhost:8080/",
          "height": 593
        },
        "id": "236Y6ihOtXil",
        "outputId": "3f1f124c-cf84-4da7-e401-6eb330180774"
      },
      "outputs": [
        {
          "output_type": "stream",
          "name": "stdout",
          "text": [
            "     x  y animal\n",
            "0  7.0  5    dog\n",
            "1  5.0  6    cat\n",
            "2  6.0  7    cat\n",
            "3  4.0  4    cat\n",
            "4  3.0  3    NaN\n"
          ]
        },
        {
          "output_type": "display_data",
          "data": {
            "text/plain": [
              "<Figure size 640x480 with 1 Axes>"
            ],
            "image/png": "[encoded data removed]"
          },
          "metadata": {}
        },
        {
          "output_type": "stream",
          "name": "stdout",
          "text": [
            "cat\n"
          ]
        }
      ],
      "source": [
        "\n",
        "import pandas as pd\n",
        "import numpy as np\n",
        "import matplotlib.pyplot as plt\n",
        "\n",
        "def main():\n",
        "    df = pd.read_csv(\"knndataset.csv\", delimiter=',')\n",
        "    print(df.head())\n",
        "    x_coordinates = list(df[\"x\"])\n",
        "    y_coordinates = list(df[\"y\"])\n",
        "    classific=list(df[\"animal\"])\n",
        "    l = len(x_coordinates)\n",
        "    points = []\n",
        "    for i in range(0,l):\n",
        "     points.append([x_coordinates[i],y_coordinates[i],classific[i]])\n",
        "    pt = [3,5]\n",
        "    min_diff1 = float('inf')\n",
        "    min_diff2 = float('inf')\n",
        "    min_diff3 = float('inf')\n",
        "    pt1, pt2, pt3 = None, None, None\n",
        "\n",
        "    # Find the three points with the smallest x-coordinate differences from pt_x\n",
        "    for i in range(l):\n",
        "        d = abs((pt[0]- points[i][0])**2+(pt[1]-points[i][1])**2)\n",
        "        if d < min_diff1:\n",
        "            min_diff3 = min_diff2\n",
        "            min_diff2 = min_diff1\n",
        "            min_diff1 = d\n",
        "            pt3 = pt2\n",
        "            pt2 = pt1\n",
        "            pt1 = points[i]\n",
        "        elif min_diff1 < d < min_diff2:\n",
        "            min_diff3 = min_diff2\n",
        "            min_diff2 = d\n",
        "            pt3 = pt2\n",
        "            pt2 = points[i]\n",
        "        elif min_diff2 < d < min_diff3:\n",
        "            min_diff3 = d\n",
        "            pt3 = points[i]\n",
        "\n",
        "\n",
        "\n",
        "    plt.plot(x_coordinates, y_coordinates, 'ro')\n",
        "    plt.plot(pt[0], pt[1], 'bo')  # Plot the predicted point\n",
        "\n",
        "    plt.xlabel('X-coordinate')\n",
        "    plt.ylabel('Y-coordinate')\n",
        "    plt.title('Visualization of Points')\n",
        "    plt.grid(True)\n",
        "    plt.show()\n",
        "    catcount=0;\n",
        "    if pt1[2]==\"cat\":\n",
        "      catcount+=1\n",
        "    if pt2[2]==\"cat\":\n",
        "      catcount+=1\n",
        "    if pt3[2]==\"cat\":\n",
        "      catcount+=1\n",
        "    if catcount>=2:\n",
        "      pt.append(\"cat\")\n",
        "      print(\"cat\")\n",
        "    else:\n",
        "      pt.append(\"dog\")\n",
        "      print(\"dog\")\n",
        "\n",
        "if __name__ == \"__main__\":\n",
        "    main()\n"
      ]
    }
  ]
}